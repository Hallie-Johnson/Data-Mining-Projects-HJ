{
 "cells": [
  {
   "cell_type": "markdown",
   "id": "be5b1cb0",
   "metadata": {},
   "source": [
    "# The Data"
   ]
  },
  {
   "cell_type": "code",
   "execution_count": 1,
   "id": "f1db09d6",
   "metadata": {},
   "outputs": [],
   "source": [
    "import pandas as pd\n",
    "import numpy as np"
   ]
  },
  {
   "cell_type": "markdown",
   "id": "cade4223",
   "metadata": {},
   "source": [
    "Dataset: https://www.kaggle.com/datasets/ruchi798/tv-shows-on-netflix-prime-video-hulu-and-disney"
   ]
  },
  {
   "cell_type": "code",
   "execution_count": 2,
   "id": "dc3ddaef",
   "metadata": {},
   "outputs": [],
   "source": [
    "tvshows_df = pd.read_csv(\"tv_shows.csv\")"
   ]
  },
  {
   "cell_type": "code",
   "execution_count": 3,
   "id": "4bdbc213",
   "metadata": {},
   "outputs": [
    {
     "data": {
      "text/html": [
       "<div>\n",
       "<style scoped>\n",
       "    .dataframe tbody tr th:only-of-type {\n",
       "        vertical-align: middle;\n",
       "    }\n",
       "\n",
       "    .dataframe tbody tr th {\n",
       "        vertical-align: top;\n",
       "    }\n",
       "\n",
       "    .dataframe thead th {\n",
       "        text-align: right;\n",
       "    }\n",
       "</style>\n",
       "<table border=\"1\" class=\"dataframe\">\n",
       "  <thead>\n",
       "    <tr style=\"text-align: right;\">\n",
       "      <th></th>\n",
       "      <th>Unnamed: 0</th>\n",
       "      <th>ID</th>\n",
       "      <th>Title</th>\n",
       "      <th>Year</th>\n",
       "      <th>Age</th>\n",
       "      <th>IMDb</th>\n",
       "      <th>Rotten Tomatoes</th>\n",
       "      <th>Netflix</th>\n",
       "      <th>Hulu</th>\n",
       "      <th>Prime Video</th>\n",
       "      <th>Disney+</th>\n",
       "      <th>Type</th>\n",
       "    </tr>\n",
       "  </thead>\n",
       "  <tbody>\n",
       "    <tr>\n",
       "      <th>0</th>\n",
       "      <td>0</td>\n",
       "      <td>1</td>\n",
       "      <td>Breaking Bad</td>\n",
       "      <td>2008</td>\n",
       "      <td>18+</td>\n",
       "      <td>9.4/10</td>\n",
       "      <td>100/100</td>\n",
       "      <td>1</td>\n",
       "      <td>0</td>\n",
       "      <td>0</td>\n",
       "      <td>0</td>\n",
       "      <td>1</td>\n",
       "    </tr>\n",
       "    <tr>\n",
       "      <th>1</th>\n",
       "      <td>1</td>\n",
       "      <td>2</td>\n",
       "      <td>Stranger Things</td>\n",
       "      <td>2016</td>\n",
       "      <td>16+</td>\n",
       "      <td>8.7/10</td>\n",
       "      <td>96/100</td>\n",
       "      <td>1</td>\n",
       "      <td>0</td>\n",
       "      <td>0</td>\n",
       "      <td>0</td>\n",
       "      <td>1</td>\n",
       "    </tr>\n",
       "    <tr>\n",
       "      <th>2</th>\n",
       "      <td>2</td>\n",
       "      <td>3</td>\n",
       "      <td>Attack on Titan</td>\n",
       "      <td>2013</td>\n",
       "      <td>18+</td>\n",
       "      <td>9.0/10</td>\n",
       "      <td>95/100</td>\n",
       "      <td>1</td>\n",
       "      <td>1</td>\n",
       "      <td>0</td>\n",
       "      <td>0</td>\n",
       "      <td>1</td>\n",
       "    </tr>\n",
       "    <tr>\n",
       "      <th>3</th>\n",
       "      <td>3</td>\n",
       "      <td>4</td>\n",
       "      <td>Better Call Saul</td>\n",
       "      <td>2015</td>\n",
       "      <td>18+</td>\n",
       "      <td>8.8/10</td>\n",
       "      <td>94/100</td>\n",
       "      <td>1</td>\n",
       "      <td>0</td>\n",
       "      <td>0</td>\n",
       "      <td>0</td>\n",
       "      <td>1</td>\n",
       "    </tr>\n",
       "    <tr>\n",
       "      <th>4</th>\n",
       "      <td>4</td>\n",
       "      <td>5</td>\n",
       "      <td>Dark</td>\n",
       "      <td>2017</td>\n",
       "      <td>16+</td>\n",
       "      <td>8.8/10</td>\n",
       "      <td>93/100</td>\n",
       "      <td>1</td>\n",
       "      <td>0</td>\n",
       "      <td>0</td>\n",
       "      <td>0</td>\n",
       "      <td>1</td>\n",
       "    </tr>\n",
       "  </tbody>\n",
       "</table>\n",
       "</div>"
      ],
      "text/plain": [
       "   Unnamed: 0  ID             Title  Year  Age    IMDb Rotten Tomatoes  \\\n",
       "0           0   1      Breaking Bad  2008  18+  9.4/10         100/100   \n",
       "1           1   2   Stranger Things  2016  16+  8.7/10          96/100   \n",
       "2           2   3   Attack on Titan  2013  18+  9.0/10          95/100   \n",
       "3           3   4  Better Call Saul  2015  18+  8.8/10          94/100   \n",
       "4           4   5              Dark  2017  16+  8.8/10          93/100   \n",
       "\n",
       "   Netflix  Hulu  Prime Video  Disney+  Type  \n",
       "0        1     0            0        0     1  \n",
       "1        1     0            0        0     1  \n",
       "2        1     1            0        0     1  \n",
       "3        1     0            0        0     1  \n",
       "4        1     0            0        0     1  "
      ]
     },
     "execution_count": 3,
     "metadata": {},
     "output_type": "execute_result"
    }
   ],
   "source": [
    "tvshows_df.head()"
   ]
  },
  {
   "cell_type": "code",
   "execution_count": 4,
   "id": "176a3c87",
   "metadata": {},
   "outputs": [
    {
     "data": {
      "text/plain": [
       "Unnamed: 0          int64\n",
       "ID                  int64\n",
       "Title              object\n",
       "Year                int64\n",
       "Age                object\n",
       "IMDb               object\n",
       "Rotten Tomatoes    object\n",
       "Netflix             int64\n",
       "Hulu                int64\n",
       "Prime Video         int64\n",
       "Disney+             int64\n",
       "Type                int64\n",
       "dtype: object"
      ]
     },
     "execution_count": 4,
     "metadata": {},
     "output_type": "execute_result"
    }
   ],
   "source": [
    "tvshows_df.dtypes"
   ]
  },
  {
   "cell_type": "markdown",
   "id": "2ff489a1",
   "metadata": {},
   "source": [
    "# Pre-Processing The Data"
   ]
  },
  {
   "cell_type": "code",
   "execution_count": 5,
   "id": "713aeab4",
   "metadata": {},
   "outputs": [],
   "source": [
    "tvshows_df = tvshows_df.dropna(axis=0) # Remove null values"
   ]
  },
  {
   "cell_type": "code",
   "execution_count": 6,
   "id": "43ec73cc",
   "metadata": {},
   "outputs": [
    {
     "data": {
      "text/html": [
       "<div>\n",
       "<style scoped>\n",
       "    .dataframe tbody tr th:only-of-type {\n",
       "        vertical-align: middle;\n",
       "    }\n",
       "\n",
       "    .dataframe tbody tr th {\n",
       "        vertical-align: top;\n",
       "    }\n",
       "\n",
       "    .dataframe thead th {\n",
       "        text-align: right;\n",
       "    }\n",
       "</style>\n",
       "<table border=\"1\" class=\"dataframe\">\n",
       "  <thead>\n",
       "    <tr style=\"text-align: right;\">\n",
       "      <th></th>\n",
       "      <th>Unnamed: 0</th>\n",
       "      <th>ID</th>\n",
       "      <th>Title</th>\n",
       "      <th>Year</th>\n",
       "      <th>Age</th>\n",
       "      <th>IMDb</th>\n",
       "      <th>Rotten Tomatoes</th>\n",
       "      <th>Netflix</th>\n",
       "      <th>Hulu</th>\n",
       "      <th>Prime Video</th>\n",
       "      <th>Disney+</th>\n",
       "      <th>Type</th>\n",
       "    </tr>\n",
       "  </thead>\n",
       "  <tbody>\n",
       "    <tr>\n",
       "      <th>0</th>\n",
       "      <td>0</td>\n",
       "      <td>1</td>\n",
       "      <td>Breaking Bad</td>\n",
       "      <td>2008</td>\n",
       "      <td>18+</td>\n",
       "      <td>9.4/10</td>\n",
       "      <td>100/100</td>\n",
       "      <td>1</td>\n",
       "      <td>0</td>\n",
       "      <td>0</td>\n",
       "      <td>0</td>\n",
       "      <td>1</td>\n",
       "    </tr>\n",
       "    <tr>\n",
       "      <th>1</th>\n",
       "      <td>1</td>\n",
       "      <td>2</td>\n",
       "      <td>Stranger Things</td>\n",
       "      <td>2016</td>\n",
       "      <td>16+</td>\n",
       "      <td>8.7/10</td>\n",
       "      <td>96/100</td>\n",
       "      <td>1</td>\n",
       "      <td>0</td>\n",
       "      <td>0</td>\n",
       "      <td>0</td>\n",
       "      <td>1</td>\n",
       "    </tr>\n",
       "    <tr>\n",
       "      <th>2</th>\n",
       "      <td>2</td>\n",
       "      <td>3</td>\n",
       "      <td>Attack on Titan</td>\n",
       "      <td>2013</td>\n",
       "      <td>18+</td>\n",
       "      <td>9.0/10</td>\n",
       "      <td>95/100</td>\n",
       "      <td>1</td>\n",
       "      <td>1</td>\n",
       "      <td>0</td>\n",
       "      <td>0</td>\n",
       "      <td>1</td>\n",
       "    </tr>\n",
       "    <tr>\n",
       "      <th>3</th>\n",
       "      <td>3</td>\n",
       "      <td>4</td>\n",
       "      <td>Better Call Saul</td>\n",
       "      <td>2015</td>\n",
       "      <td>18+</td>\n",
       "      <td>8.8/10</td>\n",
       "      <td>94/100</td>\n",
       "      <td>1</td>\n",
       "      <td>0</td>\n",
       "      <td>0</td>\n",
       "      <td>0</td>\n",
       "      <td>1</td>\n",
       "    </tr>\n",
       "    <tr>\n",
       "      <th>4</th>\n",
       "      <td>4</td>\n",
       "      <td>5</td>\n",
       "      <td>Dark</td>\n",
       "      <td>2017</td>\n",
       "      <td>16+</td>\n",
       "      <td>8.8/10</td>\n",
       "      <td>93/100</td>\n",
       "      <td>1</td>\n",
       "      <td>0</td>\n",
       "      <td>0</td>\n",
       "      <td>0</td>\n",
       "      <td>1</td>\n",
       "    </tr>\n",
       "    <tr>\n",
       "      <th>...</th>\n",
       "      <td>...</td>\n",
       "      <td>...</td>\n",
       "      <td>...</td>\n",
       "      <td>...</td>\n",
       "      <td>...</td>\n",
       "      <td>...</td>\n",
       "      <td>...</td>\n",
       "      <td>...</td>\n",
       "      <td>...</td>\n",
       "      <td>...</td>\n",
       "      <td>...</td>\n",
       "      <td>...</td>\n",
       "    </tr>\n",
       "    <tr>\n",
       "      <th>5336</th>\n",
       "      <td>5336</td>\n",
       "      <td>5684</td>\n",
       "      <td>Disney Family Sundays</td>\n",
       "      <td>2019</td>\n",
       "      <td>all</td>\n",
       "      <td>5.6/10</td>\n",
       "      <td>31/100</td>\n",
       "      <td>0</td>\n",
       "      <td>0</td>\n",
       "      <td>0</td>\n",
       "      <td>1</td>\n",
       "      <td>1</td>\n",
       "    </tr>\n",
       "    <tr>\n",
       "      <th>5339</th>\n",
       "      <td>5339</td>\n",
       "      <td>5687</td>\n",
       "      <td>Wild Chile</td>\n",
       "      <td>2018</td>\n",
       "      <td>7+</td>\n",
       "      <td>7.5/10</td>\n",
       "      <td>30/100</td>\n",
       "      <td>0</td>\n",
       "      <td>0</td>\n",
       "      <td>0</td>\n",
       "      <td>1</td>\n",
       "      <td>1</td>\n",
       "    </tr>\n",
       "    <tr>\n",
       "      <th>5340</th>\n",
       "      <td>5340</td>\n",
       "      <td>5688</td>\n",
       "      <td>Howie Mandel's Animals Doing Things</td>\n",
       "      <td>2018</td>\n",
       "      <td>all</td>\n",
       "      <td>3.2/10</td>\n",
       "      <td>30/100</td>\n",
       "      <td>0</td>\n",
       "      <td>0</td>\n",
       "      <td>0</td>\n",
       "      <td>1</td>\n",
       "      <td>1</td>\n",
       "    </tr>\n",
       "    <tr>\n",
       "      <th>5341</th>\n",
       "      <td>5341</td>\n",
       "      <td>5690</td>\n",
       "      <td>The Big Fib</td>\n",
       "      <td>2020</td>\n",
       "      <td>all</td>\n",
       "      <td>5.4/10</td>\n",
       "      <td>29/100</td>\n",
       "      <td>0</td>\n",
       "      <td>0</td>\n",
       "      <td>0</td>\n",
       "      <td>1</td>\n",
       "      <td>1</td>\n",
       "    </tr>\n",
       "    <tr>\n",
       "      <th>5342</th>\n",
       "      <td>5342</td>\n",
       "      <td>5691</td>\n",
       "      <td>Vampirina: Ghoul Girls Rock!</td>\n",
       "      <td>2018</td>\n",
       "      <td>all</td>\n",
       "      <td>7.7/10</td>\n",
       "      <td>28/100</td>\n",
       "      <td>0</td>\n",
       "      <td>0</td>\n",
       "      <td>0</td>\n",
       "      <td>1</td>\n",
       "      <td>1</td>\n",
       "    </tr>\n",
       "  </tbody>\n",
       "</table>\n",
       "<p>3207 rows × 12 columns</p>\n",
       "</div>"
      ],
      "text/plain": [
       "      Unnamed: 0    ID                                Title  Year  Age  \\\n",
       "0              0     1                         Breaking Bad  2008  18+   \n",
       "1              1     2                      Stranger Things  2016  16+   \n",
       "2              2     3                      Attack on Titan  2013  18+   \n",
       "3              3     4                     Better Call Saul  2015  18+   \n",
       "4              4     5                                 Dark  2017  16+   \n",
       "...          ...   ...                                  ...   ...  ...   \n",
       "5336        5336  5684                Disney Family Sundays  2019  all   \n",
       "5339        5339  5687                           Wild Chile  2018   7+   \n",
       "5340        5340  5688  Howie Mandel's Animals Doing Things  2018  all   \n",
       "5341        5341  5690                          The Big Fib  2020  all   \n",
       "5342        5342  5691         Vampirina: Ghoul Girls Rock!  2018  all   \n",
       "\n",
       "        IMDb Rotten Tomatoes  Netflix  Hulu  Prime Video  Disney+  Type  \n",
       "0     9.4/10         100/100        1     0            0        0     1  \n",
       "1     8.7/10          96/100        1     0            0        0     1  \n",
       "2     9.0/10          95/100        1     1            0        0     1  \n",
       "3     8.8/10          94/100        1     0            0        0     1  \n",
       "4     8.8/10          93/100        1     0            0        0     1  \n",
       "...      ...             ...      ...   ...          ...      ...   ...  \n",
       "5336  5.6/10          31/100        0     0            0        1     1  \n",
       "5339  7.5/10          30/100        0     0            0        1     1  \n",
       "5340  3.2/10          30/100        0     0            0        1     1  \n",
       "5341  5.4/10          29/100        0     0            0        1     1  \n",
       "5342  7.7/10          28/100        0     0            0        1     1  \n",
       "\n",
       "[3207 rows x 12 columns]"
      ]
     },
     "execution_count": 6,
     "metadata": {},
     "output_type": "execute_result"
    }
   ],
   "source": [
    "tvshows_df.drop_duplicates() # Remove duplicate values"
   ]
  },
  {
   "cell_type": "code",
   "execution_count": 7,
   "id": "71e617d3",
   "metadata": {},
   "outputs": [
    {
     "data": {
      "text/html": [
       "<div>\n",
       "<style scoped>\n",
       "    .dataframe tbody tr th:only-of-type {\n",
       "        vertical-align: middle;\n",
       "    }\n",
       "\n",
       "    .dataframe tbody tr th {\n",
       "        vertical-align: top;\n",
       "    }\n",
       "\n",
       "    .dataframe thead th {\n",
       "        text-align: right;\n",
       "    }\n",
       "</style>\n",
       "<table border=\"1\" class=\"dataframe\">\n",
       "  <thead>\n",
       "    <tr style=\"text-align: right;\">\n",
       "      <th></th>\n",
       "      <th>Unnamed: 0</th>\n",
       "      <th>ID</th>\n",
       "      <th>Title</th>\n",
       "      <th>Year</th>\n",
       "      <th>Age</th>\n",
       "      <th>IMDb</th>\n",
       "      <th>Rotten Tomatoes</th>\n",
       "      <th>Netflix</th>\n",
       "      <th>Hulu</th>\n",
       "      <th>Prime Video</th>\n",
       "      <th>Disney+</th>\n",
       "      <th>Type</th>\n",
       "      <th>IMDb Rating</th>\n",
       "    </tr>\n",
       "  </thead>\n",
       "  <tbody>\n",
       "    <tr>\n",
       "      <th>0</th>\n",
       "      <td>0</td>\n",
       "      <td>1</td>\n",
       "      <td>Breaking Bad</td>\n",
       "      <td>2008</td>\n",
       "      <td>18+</td>\n",
       "      <td>9.4/10</td>\n",
       "      <td>100/100</td>\n",
       "      <td>1</td>\n",
       "      <td>0</td>\n",
       "      <td>0</td>\n",
       "      <td>0</td>\n",
       "      <td>1</td>\n",
       "      <td>9.4</td>\n",
       "    </tr>\n",
       "    <tr>\n",
       "      <th>1</th>\n",
       "      <td>1</td>\n",
       "      <td>2</td>\n",
       "      <td>Stranger Things</td>\n",
       "      <td>2016</td>\n",
       "      <td>16+</td>\n",
       "      <td>8.7/10</td>\n",
       "      <td>96/100</td>\n",
       "      <td>1</td>\n",
       "      <td>0</td>\n",
       "      <td>0</td>\n",
       "      <td>0</td>\n",
       "      <td>1</td>\n",
       "      <td>8.7</td>\n",
       "    </tr>\n",
       "    <tr>\n",
       "      <th>2</th>\n",
       "      <td>2</td>\n",
       "      <td>3</td>\n",
       "      <td>Attack on Titan</td>\n",
       "      <td>2013</td>\n",
       "      <td>18+</td>\n",
       "      <td>9.0/10</td>\n",
       "      <td>95/100</td>\n",
       "      <td>1</td>\n",
       "      <td>1</td>\n",
       "      <td>0</td>\n",
       "      <td>0</td>\n",
       "      <td>1</td>\n",
       "      <td>9.0</td>\n",
       "    </tr>\n",
       "    <tr>\n",
       "      <th>3</th>\n",
       "      <td>3</td>\n",
       "      <td>4</td>\n",
       "      <td>Better Call Saul</td>\n",
       "      <td>2015</td>\n",
       "      <td>18+</td>\n",
       "      <td>8.8/10</td>\n",
       "      <td>94/100</td>\n",
       "      <td>1</td>\n",
       "      <td>0</td>\n",
       "      <td>0</td>\n",
       "      <td>0</td>\n",
       "      <td>1</td>\n",
       "      <td>8.8</td>\n",
       "    </tr>\n",
       "    <tr>\n",
       "      <th>4</th>\n",
       "      <td>4</td>\n",
       "      <td>5</td>\n",
       "      <td>Dark</td>\n",
       "      <td>2017</td>\n",
       "      <td>16+</td>\n",
       "      <td>8.8/10</td>\n",
       "      <td>93/100</td>\n",
       "      <td>1</td>\n",
       "      <td>0</td>\n",
       "      <td>0</td>\n",
       "      <td>0</td>\n",
       "      <td>1</td>\n",
       "      <td>8.8</td>\n",
       "    </tr>\n",
       "  </tbody>\n",
       "</table>\n",
       "</div>"
      ],
      "text/plain": [
       "   Unnamed: 0  ID             Title  Year  Age    IMDb Rotten Tomatoes  \\\n",
       "0           0   1      Breaking Bad  2008  18+  9.4/10         100/100   \n",
       "1           1   2   Stranger Things  2016  16+  8.7/10          96/100   \n",
       "2           2   3   Attack on Titan  2013  18+  9.0/10          95/100   \n",
       "3           3   4  Better Call Saul  2015  18+  8.8/10          94/100   \n",
       "4           4   5              Dark  2017  16+  8.8/10          93/100   \n",
       "\n",
       "   Netflix  Hulu  Prime Video  Disney+  Type  IMDb Rating  \n",
       "0        1     0            0        0     1          9.4  \n",
       "1        1     0            0        0     1          8.7  \n",
       "2        1     1            0        0     1          9.0  \n",
       "3        1     0            0        0     1          8.8  \n",
       "4        1     0            0        0     1          8.8  "
      ]
     },
     "execution_count": 7,
     "metadata": {},
     "output_type": "execute_result"
    }
   ],
   "source": [
    "# Convert IMDb Rating to a numerical data type\n",
    "tvshows_df['IMDb Rating'] = pd.to_numeric(tvshows_df['IMDb'].apply(lambda x: x[:3])).astype(float)\n",
    "tvshows_df.head()"
   ]
  },
  {
   "cell_type": "code",
   "execution_count": 8,
   "id": "a24301af",
   "metadata": {},
   "outputs": [],
   "source": [
    "# Make IMDb the same scale as Rotten Tomatoes\n",
    "tvshows_df[\"IMDb Rating\"] = 10 * tvshows_df[\"IMDb Rating\"]"
   ]
  },
  {
   "cell_type": "code",
   "execution_count": 9,
   "id": "a96ec31a",
   "metadata": {},
   "outputs": [],
   "source": [
    "# Drop IMDb column as it will not be used\n",
    "tvshows_df = tvshows_df.drop('IMDb', axis=1)"
   ]
  },
  {
   "cell_type": "code",
   "execution_count": 10,
   "id": "08dd606f",
   "metadata": {},
   "outputs": [],
   "source": [
    "# Make Rotten Tomatoes values into a single number\n",
    "tvshows_df['Rotten Tomato Rating'] = pd.to_numeric(tvshows_df['Rotten Tomatoes'].apply(lambda x: x[:2])).astype(float)\n",
    "tvshows_df.loc[tvshows_df['Rotten Tomatoes'].str.contains('100/100'), 'Rotten Tomato Rating'] = 100"
   ]
  },
  {
   "cell_type": "code",
   "execution_count": 11,
   "id": "7a7b701f",
   "metadata": {},
   "outputs": [],
   "source": [
    "# Drop Rotten Tomatoes column as it will not be used\n",
    "tvshows_df = tvshows_df.drop('Rotten Tomatoes', axis=1)"
   ]
  },
  {
   "cell_type": "code",
   "execution_count": 12,
   "id": "328ce997",
   "metadata": {},
   "outputs": [],
   "source": [
    "# Drop Type column as it will not be used\n",
    "tvshows_df = tvshows_df.drop('Type', axis=1)"
   ]
  },
  {
   "cell_type": "code",
   "execution_count": 13,
   "id": "8f340feb",
   "metadata": {},
   "outputs": [
    {
     "data": {
      "text/html": [
       "<div>\n",
       "<style scoped>\n",
       "    .dataframe tbody tr th:only-of-type {\n",
       "        vertical-align: middle;\n",
       "    }\n",
       "\n",
       "    .dataframe tbody tr th {\n",
       "        vertical-align: top;\n",
       "    }\n",
       "\n",
       "    .dataframe thead th {\n",
       "        text-align: right;\n",
       "    }\n",
       "</style>\n",
       "<table border=\"1\" class=\"dataframe\">\n",
       "  <thead>\n",
       "    <tr style=\"text-align: right;\">\n",
       "      <th></th>\n",
       "      <th>Unnamed: 0</th>\n",
       "      <th>ID</th>\n",
       "      <th>Title</th>\n",
       "      <th>Year</th>\n",
       "      <th>Age</th>\n",
       "      <th>Netflix</th>\n",
       "      <th>Hulu</th>\n",
       "      <th>Prime Video</th>\n",
       "      <th>Disney+</th>\n",
       "      <th>IMDb Rating</th>\n",
       "      <th>Rotten Tomato Rating</th>\n",
       "    </tr>\n",
       "  </thead>\n",
       "  <tbody>\n",
       "    <tr>\n",
       "      <th>0</th>\n",
       "      <td>0</td>\n",
       "      <td>1</td>\n",
       "      <td>Breaking Bad</td>\n",
       "      <td>2008</td>\n",
       "      <td>18+</td>\n",
       "      <td>1</td>\n",
       "      <td>0</td>\n",
       "      <td>0</td>\n",
       "      <td>0</td>\n",
       "      <td>94.0</td>\n",
       "      <td>100.0</td>\n",
       "    </tr>\n",
       "    <tr>\n",
       "      <th>1</th>\n",
       "      <td>1</td>\n",
       "      <td>2</td>\n",
       "      <td>Stranger Things</td>\n",
       "      <td>2016</td>\n",
       "      <td>16+</td>\n",
       "      <td>1</td>\n",
       "      <td>0</td>\n",
       "      <td>0</td>\n",
       "      <td>0</td>\n",
       "      <td>87.0</td>\n",
       "      <td>96.0</td>\n",
       "    </tr>\n",
       "    <tr>\n",
       "      <th>2</th>\n",
       "      <td>2</td>\n",
       "      <td>3</td>\n",
       "      <td>Attack on Titan</td>\n",
       "      <td>2013</td>\n",
       "      <td>18+</td>\n",
       "      <td>1</td>\n",
       "      <td>1</td>\n",
       "      <td>0</td>\n",
       "      <td>0</td>\n",
       "      <td>90.0</td>\n",
       "      <td>95.0</td>\n",
       "    </tr>\n",
       "    <tr>\n",
       "      <th>3</th>\n",
       "      <td>3</td>\n",
       "      <td>4</td>\n",
       "      <td>Better Call Saul</td>\n",
       "      <td>2015</td>\n",
       "      <td>18+</td>\n",
       "      <td>1</td>\n",
       "      <td>0</td>\n",
       "      <td>0</td>\n",
       "      <td>0</td>\n",
       "      <td>88.0</td>\n",
       "      <td>94.0</td>\n",
       "    </tr>\n",
       "    <tr>\n",
       "      <th>4</th>\n",
       "      <td>4</td>\n",
       "      <td>5</td>\n",
       "      <td>Dark</td>\n",
       "      <td>2017</td>\n",
       "      <td>16+</td>\n",
       "      <td>1</td>\n",
       "      <td>0</td>\n",
       "      <td>0</td>\n",
       "      <td>0</td>\n",
       "      <td>88.0</td>\n",
       "      <td>93.0</td>\n",
       "    </tr>\n",
       "  </tbody>\n",
       "</table>\n",
       "</div>"
      ],
      "text/plain": [
       "   Unnamed: 0  ID             Title  Year  Age  Netflix  Hulu  Prime Video  \\\n",
       "0           0   1      Breaking Bad  2008  18+        1     0            0   \n",
       "1           1   2   Stranger Things  2016  16+        1     0            0   \n",
       "2           2   3   Attack on Titan  2013  18+        1     1            0   \n",
       "3           3   4  Better Call Saul  2015  18+        1     0            0   \n",
       "4           4   5              Dark  2017  16+        1     0            0   \n",
       "\n",
       "   Disney+  IMDb Rating  Rotten Tomato Rating  \n",
       "0        0         94.0                 100.0  \n",
       "1        0         87.0                  96.0  \n",
       "2        0         90.0                  95.0  \n",
       "3        0         88.0                  94.0  \n",
       "4        0         88.0                  93.0  "
      ]
     },
     "execution_count": 13,
     "metadata": {},
     "output_type": "execute_result"
    }
   ],
   "source": [
    "tvshows_df.head()"
   ]
  },
  {
   "cell_type": "code",
   "execution_count": 14,
   "id": "1efb7842",
   "metadata": {},
   "outputs": [],
   "source": [
    "# Remove the \"+\" from the Age values\n",
    "tvshows_df.loc[tvshows_df['Age'].str.contains('7+'), 'Age Group'] = 7\n",
    "tvshows_df.loc[tvshows_df['Age'].str.contains('13+'), 'Age Group'] = 13\n",
    "tvshows_df.loc[tvshows_df['Age'].str.contains('16+'), 'Age Group'] = 16\n",
    "tvshows_df.loc[tvshows_df['Age'].str.contains('18+'), 'Age Group'] = 18\n",
    "tvshows_df.loc[tvshows_df['Age'].str.contains('all'), 'Age Group'] = 100"
   ]
  },
  {
   "cell_type": "code",
   "execution_count": 18,
   "id": "3e62995d",
   "metadata": {},
   "outputs": [],
   "source": [
    "# Convert Netflix, Hulu, Prime Video, and Disney+ columns into strings\n",
    "tvshows_df.Netflix = tvshows_df.Netflix.astype(str)\n",
    "tvshows_df.Hulu = tvshows_df.Hulu.astype(str)\n",
    "tvshows_df['Disney+'] = tvshows_df['Disney+'].astype(str)\n",
    "tvshows_df['Prime Video'] = tvshows_df['Prime Video'].astype(str)"
   ]
  },
  {
   "cell_type": "code",
   "execution_count": 19,
   "id": "5bead48b",
   "metadata": {},
   "outputs": [],
   "source": [
    "# Make a new column to represent which media is on which streaming service(s)\n",
    "tvshows_df.loc[tvshows_df['Netflix'].str.contains('1'), 'Service'] = 'N'\n",
    "tvshows_df.loc[tvshows_df['Hulu'].str.contains('1'), 'Service'] = 'H'\n",
    "tvshows_df.loc[tvshows_df['Disney+'].str.contains('1'), 'Service'] = 'D'\n",
    "tvshows_df.loc[tvshows_df['Prime Video'].str.contains('1'), 'Service'] = 'P'"
   ]
  },
  {
   "cell_type": "code",
   "execution_count": 20,
   "id": "b5484e0b",
   "metadata": {},
   "outputs": [],
   "source": [
    "# Add all media that is on multiple streaming services to a column that will drop them all\n",
    "tvshows_df.loc[tvshows_df['Netflix'].str.contains('1') & tvshows_df['Hulu'].str.contains('1'), 'Service'] = 'DROP'\n",
    "tvshows_df.loc[tvshows_df['Netflix'].str.contains('1') & tvshows_df['Prime Video'].str.contains('1'), 'Service'] = 'DROP'\n",
    "tvshows_df.loc[tvshows_df['Netflix'].str.contains('1') & tvshows_df['Disney+'].str.contains('1'), 'Service'] = 'DROP'\n",
    "tvshows_df.loc[tvshows_df['Hulu'].str.contains('1') & tvshows_df['Prime Video'].str.contains('1'), 'Service'] = 'DROP'\n",
    "tvshows_df.loc[tvshows_df['Hulu'].str.contains('1') & tvshows_df['Disney+'].str.contains('1'), 'Service'] = 'DROP'\n",
    "tvshows_df.loc[tvshows_df['Prime Video'].str.contains('1') & tvshows_df['Disney+'].str.contains('1'), 'Service'] = 'DROP'\n",
    "tvshows_df.loc[tvshows_df['Netflix'].str.contains('1') & tvshows_df['Hulu'].str.contains('1') & tvshows_df['Prime Video'].str.contains('1'), 'Service'] = 'DROP'\n",
    "tvshows_df.loc[tvshows_df['Netflix'].str.contains('1') & tvshows_df['Hulu'].str.contains('1') & tvshows_df['Disney+'].str.contains('1'), 'Service'] = 'DROP'\n",
    "tvshows_df.loc[tvshows_df['Netflix'].str.contains('1') & tvshows_df['Prime Video'].str.contains('1') & tvshows_df['Disney+'].str.contains('1'), 'Service'] = 'DROP'\n",
    "tvshows_df.loc[tvshows_df['Hulu'].str.contains('1') & tvshows_df['Prime Video'].str.contains('1') & tvshows_df['Disney+'].str.contains('1'), 'Service'] = 'DROP'\n",
    "tvshows_df.loc[tvshows_df['Netflix'].str.contains('1') & tvshows_df['Hulu'].str.contains('1') & tvshows_df['Prime Video'].str.contains('1') & tvshows_df['Disney+'].str.contains('1'), 'Service'] = 'DROP'"
   ]
  },
  {
   "cell_type": "code",
   "execution_count": 21,
   "id": "98bd789b",
   "metadata": {},
   "outputs": [
    {
     "data": {
      "text/html": [
       "<div>\n",
       "<style scoped>\n",
       "    .dataframe tbody tr th:only-of-type {\n",
       "        vertical-align: middle;\n",
       "    }\n",
       "\n",
       "    .dataframe tbody tr th {\n",
       "        vertical-align: top;\n",
       "    }\n",
       "\n",
       "    .dataframe thead th {\n",
       "        text-align: right;\n",
       "    }\n",
       "</style>\n",
       "<table border=\"1\" class=\"dataframe\">\n",
       "  <thead>\n",
       "    <tr style=\"text-align: right;\">\n",
       "      <th></th>\n",
       "      <th>Unnamed: 0</th>\n",
       "      <th>ID</th>\n",
       "      <th>Title</th>\n",
       "      <th>Year</th>\n",
       "      <th>Age</th>\n",
       "      <th>Netflix</th>\n",
       "      <th>Hulu</th>\n",
       "      <th>Prime Video</th>\n",
       "      <th>Disney+</th>\n",
       "      <th>IMDb Rating</th>\n",
       "      <th>Rotten Tomato Rating</th>\n",
       "      <th>Age Group</th>\n",
       "      <th>Service</th>\n",
       "    </tr>\n",
       "  </thead>\n",
       "  <tbody>\n",
       "    <tr>\n",
       "      <th>0</th>\n",
       "      <td>0</td>\n",
       "      <td>1</td>\n",
       "      <td>Breaking Bad</td>\n",
       "      <td>2008</td>\n",
       "      <td>18+</td>\n",
       "      <td>1</td>\n",
       "      <td>0</td>\n",
       "      <td>0</td>\n",
       "      <td>0</td>\n",
       "      <td>94.0</td>\n",
       "      <td>100.0</td>\n",
       "      <td>18.0</td>\n",
       "      <td>N</td>\n",
       "    </tr>\n",
       "    <tr>\n",
       "      <th>1</th>\n",
       "      <td>1</td>\n",
       "      <td>2</td>\n",
       "      <td>Stranger Things</td>\n",
       "      <td>2016</td>\n",
       "      <td>16+</td>\n",
       "      <td>1</td>\n",
       "      <td>0</td>\n",
       "      <td>0</td>\n",
       "      <td>0</td>\n",
       "      <td>87.0</td>\n",
       "      <td>96.0</td>\n",
       "      <td>16.0</td>\n",
       "      <td>N</td>\n",
       "    </tr>\n",
       "    <tr>\n",
       "      <th>3</th>\n",
       "      <td>3</td>\n",
       "      <td>4</td>\n",
       "      <td>Better Call Saul</td>\n",
       "      <td>2015</td>\n",
       "      <td>18+</td>\n",
       "      <td>1</td>\n",
       "      <td>0</td>\n",
       "      <td>0</td>\n",
       "      <td>0</td>\n",
       "      <td>88.0</td>\n",
       "      <td>94.0</td>\n",
       "      <td>18.0</td>\n",
       "      <td>N</td>\n",
       "    </tr>\n",
       "    <tr>\n",
       "      <th>4</th>\n",
       "      <td>4</td>\n",
       "      <td>5</td>\n",
       "      <td>Dark</td>\n",
       "      <td>2017</td>\n",
       "      <td>16+</td>\n",
       "      <td>1</td>\n",
       "      <td>0</td>\n",
       "      <td>0</td>\n",
       "      <td>0</td>\n",
       "      <td>88.0</td>\n",
       "      <td>93.0</td>\n",
       "      <td>16.0</td>\n",
       "      <td>N</td>\n",
       "    </tr>\n",
       "    <tr>\n",
       "      <th>6</th>\n",
       "      <td>6</td>\n",
       "      <td>7</td>\n",
       "      <td>Peaky Blinders</td>\n",
       "      <td>2013</td>\n",
       "      <td>18+</td>\n",
       "      <td>1</td>\n",
       "      <td>0</td>\n",
       "      <td>0</td>\n",
       "      <td>0</td>\n",
       "      <td>88.0</td>\n",
       "      <td>93.0</td>\n",
       "      <td>18.0</td>\n",
       "      <td>N</td>\n",
       "    </tr>\n",
       "  </tbody>\n",
       "</table>\n",
       "</div>"
      ],
      "text/plain": [
       "   Unnamed: 0  ID             Title  Year  Age Netflix Hulu Prime Video  \\\n",
       "0           0   1      Breaking Bad  2008  18+       1    0           0   \n",
       "1           1   2   Stranger Things  2016  16+       1    0           0   \n",
       "3           3   4  Better Call Saul  2015  18+       1    0           0   \n",
       "4           4   5              Dark  2017  16+       1    0           0   \n",
       "6           6   7    Peaky Blinders  2013  18+       1    0           0   \n",
       "\n",
       "  Disney+  IMDb Rating  Rotten Tomato Rating  Age Group Service  \n",
       "0       0         94.0                 100.0       18.0       N  \n",
       "1       0         87.0                  96.0       16.0       N  \n",
       "3       0         88.0                  94.0       18.0       N  \n",
       "4       0         88.0                  93.0       16.0       N  \n",
       "6       0         88.0                  93.0       18.0       N  "
      ]
     },
     "execution_count": 21,
     "metadata": {},
     "output_type": "execute_result"
    }
   ],
   "source": [
    "# Drop the \"DROP\" column\n",
    "tvshows_df = tvshows_df[tvshows_df.Service != 'DROP']\n",
    "tvshows_df.head()"
   ]
  },
  {
   "cell_type": "markdown",
   "id": "7831efca",
   "metadata": {},
   "source": [
    "# Data Understanding / Visualization"
   ]
  },
  {
   "cell_type": "code",
   "execution_count": 26,
   "id": "54b20796",
   "metadata": {},
   "outputs": [],
   "source": [
    "import seaborn as sns\n",
    "import matplotlib.pyplot as plt"
   ]
  },
  {
   "cell_type": "markdown",
   "id": "af458d87",
   "metadata": {},
   "source": [
    " "
   ]
  },
  {
   "cell_type": "markdown",
   "id": "6d70f482",
   "metadata": {},
   "source": [
    "Streaming Service with the Highest Rated Content (IMDb)"
   ]
  },
  {
   "cell_type": "code",
   "execution_count": 27,
   "id": "293f4f5e",
   "metadata": {},
   "outputs": [
    {
     "data": {
      "image/png": "[encoded data removed]",
      "text/plain": [
       "<Figure size 1440x720 with 1 Axes>"
      ]
     },
     "metadata": {},
     "output_type": "display_data"
    }
   ],
   "source": [
    "sns.set(rc={\"figure.figsize\":(20,10)})\n",
    "ax = sns.countplot(x=\"IMDb Rating\", data=tvshows_df, hue='Service')\n",
    "\n",
    "ax.set_xticklabels(ax.get_xticklabels(), fontsize=20)\n",
    "plt.tight_layout()\n",
    "ax.set_xlim(59, 77)\n",
    "plt.show()"
   ]
  },
  {
   "cell_type": "markdown",
   "id": "14bd58db",
   "metadata": {},
   "source": [
    " "
   ]
  },
  {
   "cell_type": "markdown",
   "id": "a2ec01dc",
   "metadata": {},
   "source": [
    "Streaming Service with the Highest Rated Content (Rotten Tomatoes)"
   ]
  },
  {
   "cell_type": "code",
   "execution_count": 29,
   "id": "747d00ab",
   "metadata": {},
   "outputs": [
    {
     "data": {
      "image/png": "[encoded data removed]",
      "text/plain": [
       "<Figure size 1440x720 with 1 Axes>"
      ]
     },
     "metadata": {},
     "output_type": "display_data"
    }
   ],
   "source": [
    "sns.set(rc={\"figure.figsize\":(20,10)})\n",
    "ax = sns.countplot(x=\"Rotten Tomato Rating\", data=tvshows_df, hue='Service')\n",
    "\n",
    "ax.set_xticklabels(ax.get_xticklabels(), fontsize=20)\n",
    "plt.tight_layout()\n",
    "ax.set_xlim(59, 74)\n",
    "plt.show()"
   ]
  },
  {
   "cell_type": "markdown",
   "id": "5e353688",
   "metadata": {},
   "source": [
    " "
   ]
  },
  {
   "cell_type": "markdown",
   "id": "6982110a",
   "metadata": {},
   "source": [
    "Best Streaming Service for Different Age Groups (IMDb)"
   ]
  },
  {
   "cell_type": "code",
   "execution_count": 30,
   "id": "47a4f1bd",
   "metadata": {},
   "outputs": [
    {
     "data": {
      "image/png": "[encoded data removed]",
      "text/plain": [
       "<Figure size 1440x720 with 1 Axes>"
      ]
     },
     "metadata": {},
     "output_type": "display_data"
    }
   ],
   "source": [
    "sns.set(rc={\"figure.figsize\":(20,10)})\n",
    "ax = sns.barplot(x=\"Age Group\", y='IMDb Rating', data=tvshows_df, hue='Service')\n",
    "\n",
    "ax.set_xticklabels(ax.get_xticklabels(), fontsize=20)\n",
    "plt.tight_layout()\n",
    "plt.show()"
   ]
  },
  {
   "cell_type": "markdown",
   "id": "eced28f6",
   "metadata": {},
   "source": [
    " "
   ]
  },
  {
   "cell_type": "markdown",
   "id": "05922680",
   "metadata": {},
   "source": [
    "Best Streaming Service for Different Age Groups (Rotten Tomatoes)"
   ]
  },
  {
   "cell_type": "code",
   "execution_count": 31,
   "id": "33d158b5",
   "metadata": {},
   "outputs": [
    {
     "data": {
      "image/png": "[encoded data removed]",
      "text/plain": [
       "<Figure size 1440x720 with 1 Axes>"
      ]
     },
     "metadata": {},
     "output_type": "display_data"
    }
   ],
   "source": [
    "sns.set(rc={\"figure.figsize\":(20,10)})\n",
    "ax = sns.barplot(x=\"Age Group\", y='Rotten Tomato Rating', data=tvshows_df, hue='Service')\n",
    "\n",
    "ax.set_xticklabels(ax.get_xticklabels(), fontsize=20)\n",
    "plt.tight_layout()\n",
    "plt.show()"
   ]
  },
  {
   "cell_type": "markdown",
   "id": "27a25a83",
   "metadata": {},
   "source": [
    " "
   ]
  },
  {
   "cell_type": "markdown",
   "id": "5b85676c",
   "metadata": {},
   "source": [
    "Most Up-To-Date Streaming Service"
   ]
  },
  {
   "cell_type": "code",
   "execution_count": 32,
   "id": "15f09cca",
   "metadata": {},
   "outputs": [
    {
     "data": {
      "image/png": "[encoded data removed]",
      "text/plain": [
       "<Figure size 1440x720 with 1 Axes>"
      ]
     },
     "metadata": {},
     "output_type": "display_data"
    }
   ],
   "source": [
    "sns.set(rc={\"figure.figsize\":(20,10)})\n",
    "ax = sns.countplot(x=\"Year\", data=tvshows_df, hue='Service')\n",
    "\n",
    "ax.set_xticklabels(ax.get_xticklabels(), fontsize=20)\n",
    "plt.tight_layout()\n",
    "ax.set_xlim(59, 70)\n",
    "plt.show()"
   ]
  },
  {
   "cell_type": "markdown",
   "id": "5de1666f",
   "metadata": {},
   "source": [
    " "
   ]
  },
  {
   "cell_type": "code",
   "execution_count": null,
   "id": "8e4a66e2",
   "metadata": {},
   "outputs": [],
   "source": []
  }
 ],
 "metadata": {
  "kernelspec": {
   "display_name": "Python 3 (ipykernel)",
   "language": "python",
   "name": "python3"
  },
  "language_info": {
   "codemirror_mode": {
    "name": "ipython",
    "version": 3
   },
   "file_extension": ".py",
   "mimetype": "text/x-python",
   "name": "python",
   "nbconvert_exporter": "python",
   "pygments_lexer": "ipython3",
   "version": "3.9.12"
  }
 },
 "nbformat": 4,
 "nbformat_minor": 5
}
